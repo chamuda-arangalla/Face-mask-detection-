{
  "cells": [
    {
      "cell_type": "code",
      "execution_count": 1,
      "id": "4922d244",
      "metadata": {
        "_cell_guid": "b1076dfc-b9ad-4769-8c92-a6c4dae69d19",
        "_uuid": "8f2839f25d086af736a60e9eeb907d3b93b6e0e5",
        "execution": {
          "iopub.execute_input": "2024-06-01T15:38:31.700355Z",
          "iopub.status.busy": "2024-06-01T15:38:31.699975Z",
          "iopub.status.idle": "2024-06-01T15:38:40.763445Z",
          "shell.execute_reply": "2024-06-01T15:38:40.762409Z"
        },
        "papermill": {
          "duration": 9.073373,
          "end_time": "2024-06-01T15:38:40.765571",
          "exception": false,
          "start_time": "2024-06-01T15:38:31.692198",
          "status": "completed"
        },
        "tags": [],
        "colab": {
          "base_uri": "https://localhost:8080/"
        },
        "id": "4922d244",
        "outputId": "770859e0-3724-4e3a-db81-3039f326feb6"
      },
      "outputs": [
        {
          "output_type": "stream",
          "name": "stdout",
          "text": [
            "Dataset URL: https://www.kaggle.com/datasets/omkargurav/face-mask-dataset\n",
            "License(s): unknown\n",
            "Downloading face-mask-dataset.zip to /content\n",
            " 90% 147M/163M [00:00<00:00, 227MB/s]\n",
            "100% 163M/163M [00:00<00:00, 200MB/s]\n",
            "The dataset is extracted\n"
          ]
        }
      ],
      "source": [
        "# Configuring the path of kaggle.json file\n",
        "!mkdir -p ~/.kaggle\n",
        "!cp kaggle.json ~/.kaggle/\n",
        "!chmod 600 ~/.kaggle/kaggle.json\n",
        "\n",
        "# API to fetch the dataset from Kaggle\n",
        "!kaggle datasets download -d omkargurav/face-mask-dataset\n",
        "\n",
        "# Extracting the compressed Dataset\n",
        "from zipfile import ZipFile\n",
        "dataset = '/content/face-mask-dataset.zip'\n",
        "\n",
        "with ZipFile(dataset, 'r') as zip:\n",
        "  zip.extractall()\n",
        "  print('The dataset is extracted')"
      ]
    },
    {
      "cell_type": "code",
      "execution_count": 2,
      "id": "3da66331",
      "metadata": {
        "execution": {
          "iopub.execute_input": "2024-06-01T15:38:40.779225Z",
          "iopub.status.busy": "2024-06-01T15:38:40.778783Z",
          "iopub.status.idle": "2024-06-01T15:38:51.894825Z",
          "shell.execute_reply": "2024-06-01T15:38:51.893809Z"
        },
        "papermill": {
          "duration": 11.125605,
          "end_time": "2024-06-01T15:38:51.897403",
          "exception": false,
          "start_time": "2024-06-01T15:38:40.771798",
          "status": "completed"
        },
        "tags": [],
        "id": "3da66331"
      },
      "outputs": [],
      "source": [
        "import numpy as np # linear algebra\n",
        "import pandas as pd # data processing, CSV file I/O (e.g. pd.read_csv)\n",
        "\n",
        "import tensorflow\n",
        "from tensorflow import keras"
      ]
    },
    {
      "cell_type": "code",
      "execution_count": 3,
      "id": "c2182d88",
      "metadata": {
        "execution": {
          "iopub.execute_input": "2024-06-01T15:38:51.911987Z",
          "iopub.status.busy": "2024-06-01T15:38:51.910811Z",
          "iopub.status.idle": "2024-06-01T15:38:52.084000Z",
          "shell.execute_reply": "2024-06-01T15:38:52.083312Z"
        },
        "papermill": {
          "duration": 0.182419,
          "end_time": "2024-06-01T15:38:52.086185",
          "exception": false,
          "start_time": "2024-06-01T15:38:51.903766",
          "status": "completed"
        },
        "tags": [],
        "id": "c2182d88"
      },
      "outputs": [],
      "source": [
        "import os\n",
        "import random\n",
        "import numpy as np\n",
        "import cv2\n",
        "import matplotlib.pyplot as plt"
      ]
    },
    {
      "cell_type": "code",
      "execution_count": 4,
      "id": "0956075e",
      "metadata": {
        "execution": {
          "iopub.execute_input": "2024-06-01T15:38:52.099614Z",
          "iopub.status.busy": "2024-06-01T15:38:52.099308Z",
          "iopub.status.idle": "2024-06-01T15:38:52.104109Z",
          "shell.execute_reply": "2024-06-01T15:38:52.103337Z"
        },
        "papermill": {
          "duration": 0.013644,
          "end_time": "2024-06-01T15:38:52.106062",
          "exception": false,
          "start_time": "2024-06-01T15:38:52.092418",
          "status": "completed"
        },
        "tags": [],
        "id": "0956075e"
      },
      "outputs": [],
      "source": [
        "keras.utils.set_random_seed(7)\n",
        "random.seed(7)\n",
        "np.random.seed(7)\n",
        "tensorflow.random.set_seed(7)"
      ]
    },
    {
      "cell_type": "code",
      "execution_count": 5,
      "id": "8dafc889",
      "metadata": {
        "execution": {
          "iopub.execute_input": "2024-06-01T15:38:52.119047Z",
          "iopub.status.busy": "2024-06-01T15:38:52.118744Z",
          "iopub.status.idle": "2024-06-01T15:39:58.745483Z",
          "shell.execute_reply": "2024-06-01T15:39:58.744517Z"
        },
        "papermill": {
          "duration": 66.640962,
          "end_time": "2024-06-01T15:39:58.753019",
          "exception": false,
          "start_time": "2024-06-01T15:38:52.112057",
          "status": "completed"
        },
        "tags": [],
        "colab": {
          "base_uri": "https://localhost:8080/"
        },
        "id": "8dafc889",
        "outputId": "a5eed0ad-e73a-4b5b-c94d-5583a3b83789"
      },
      "outputs": [
        {
          "output_type": "execute_result",
          "data": {
            "text/plain": [
              "((7553, 128, 128, 3), (7553,))"
            ]
          },
          "metadata": {},
          "execution_count": 5
        }
      ],
      "source": [
        "data=[]\n",
        "categories=['with_mask','without_mask']\n",
        "for category in categories:\n",
        "    path=os.path.join('/content/data',category)\n",
        "\n",
        "    if category == 'with_mask':\n",
        "        label=0\n",
        "    else:\n",
        "        label=1\n",
        "\n",
        "    for file in os.listdir(path):\n",
        "        img_path=os.path.join(path,file)\n",
        "        img=cv2.imread(img_path)\n",
        "        # img=cv2.cvtColor(img,cv2.COLOR_BGR2RGB)\n",
        "        img=cv2.resize(img,(128,128))\n",
        "        data.append([img,label])\n",
        "\n",
        "random.Random(4).shuffle(data)\n",
        "\n",
        "X=[]\n",
        "y=[]\n",
        "for feature,label in data:\n",
        "    X.append(feature)\n",
        "    y.append(label)\n",
        "X=np.array(X)\n",
        "y=np.array(y)\n",
        "X=X/255\n",
        "data=None\n",
        "\n",
        "X.shape,y.shape"
      ]
    },
    {
      "cell_type": "code",
      "execution_count": 6,
      "id": "dd4f3b92",
      "metadata": {
        "execution": {
          "iopub.execute_input": "2024-06-01T15:39:58.766719Z",
          "iopub.status.busy": "2024-06-01T15:39:58.766215Z",
          "iopub.status.idle": "2024-06-01T15:40:00.557030Z",
          "shell.execute_reply": "2024-06-01T15:40:00.556063Z"
        },
        "papermill": {
          "duration": 1.799986,
          "end_time": "2024-06-01T15:40:00.559142",
          "exception": false,
          "start_time": "2024-06-01T15:39:58.759156",
          "status": "completed"
        },
        "tags": [],
        "colab": {
          "base_uri": "https://localhost:8080/"
        },
        "id": "dd4f3b92",
        "outputId": "cfea501a-ab53-4065-a3e9-8a5a8e06e00e"
      },
      "outputs": [
        {
          "output_type": "execute_result",
          "data": {
            "text/plain": [
              "((6042, 128, 128, 3), (6042,))"
            ]
          },
          "metadata": {},
          "execution_count": 6
        }
      ],
      "source": [
        "from sklearn.model_selection import train_test_split\n",
        "X_train,X_test,y_train,y_test=train_test_split(X,y,test_size=0.2)\n",
        "X_train.shape,y_train.shape"
      ]
    },
    {
      "cell_type": "markdown",
      "id": "e894edf1",
      "metadata": {
        "papermill": {
          "duration": 0.005965,
          "end_time": "2024-06-01T15:40:00.571450",
          "exception": false,
          "start_time": "2024-06-01T15:40:00.565485",
          "status": "completed"
        },
        "tags": [],
        "id": "e894edf1"
      },
      "source": [
        "### resnet"
      ]
    },
    {
      "cell_type": "code",
      "execution_count": 7,
      "id": "fc4a58b0",
      "metadata": {
        "execution": {
          "iopub.execute_input": "2024-06-01T15:40:00.585481Z",
          "iopub.status.busy": "2024-06-01T15:40:00.584701Z",
          "iopub.status.idle": "2024-06-01T15:40:00.589168Z",
          "shell.execute_reply": "2024-06-01T15:40:00.588364Z"
        },
        "papermill": {
          "duration": 0.013485,
          "end_time": "2024-06-01T15:40:00.591109",
          "exception": false,
          "start_time": "2024-06-01T15:40:00.577624",
          "status": "completed"
        },
        "tags": [],
        "id": "fc4a58b0"
      },
      "outputs": [],
      "source": [
        "from keras import Sequential\n",
        "from keras.layers import Dense,Flatten,GlobalAveragePooling2D,BatchNormalization,Dropout\n"
      ]
    },
    {
      "cell_type": "code",
      "execution_count": 8,
      "id": "4cdb64bd",
      "metadata": {
        "execution": {
          "iopub.execute_input": "2024-06-01T15:40:00.604962Z",
          "iopub.status.busy": "2024-06-01T15:40:00.604397Z",
          "iopub.status.idle": "2024-06-01T15:40:00.608262Z",
          "shell.execute_reply": "2024-06-01T15:40:00.607435Z"
        },
        "papermill": {
          "duration": 0.012791,
          "end_time": "2024-06-01T15:40:00.610111",
          "exception": false,
          "start_time": "2024-06-01T15:40:00.597320",
          "status": "completed"
        },
        "tags": [],
        "id": "4cdb64bd"
      },
      "outputs": [],
      "source": [
        "from keras.applications import ResNet152V2\n",
        "from keras.layers import  Flatten, BatchNormalization, Dense, Dropout\n",
        "from keras.models import Sequential"
      ]
    },
    {
      "cell_type": "code",
      "execution_count": 9,
      "id": "644f738e",
      "metadata": {
        "execution": {
          "iopub.execute_input": "2024-06-01T15:40:00.623483Z",
          "iopub.status.busy": "2024-06-01T15:40:00.623004Z",
          "iopub.status.idle": "2024-06-01T15:40:14.675994Z",
          "shell.execute_reply": "2024-06-01T15:40:14.675146Z"
        },
        "papermill": {
          "duration": 14.062106,
          "end_time": "2024-06-01T15:40:14.678394",
          "exception": false,
          "start_time": "2024-06-01T15:40:00.616288",
          "status": "completed"
        },
        "tags": [],
        "colab": {
          "base_uri": "https://localhost:8080/"
        },
        "id": "644f738e",
        "outputId": "787e2421-ed8c-4156-8d35-b18b63caa6cf"
      },
      "outputs": [
        {
          "output_type": "stream",
          "name": "stdout",
          "text": [
            "Downloading data from https://storage.googleapis.com/tensorflow/keras-applications/resnet/resnet152v2_weights_tf_dim_ordering_tf_kernels_notop.h5\n",
            "\u001b[1m234545216/234545216\u001b[0m \u001b[32m━━━━━━━━━━━━━━━━━━━━\u001b[0m\u001b[37m\u001b[0m \u001b[1m2s\u001b[0m 0us/step\n"
          ]
        }
      ],
      "source": [
        "from keras.layers import Input\n",
        "# Define input shape\n",
        "input_shape = (128, 128, 3)\n",
        "\n",
        "# Create base model\n",
        "base = ResNet152V2(include_top=False, weights=\"imagenet\", input_tensor=Input(shape=input_shape))"
      ]
    },
    {
      "cell_type": "code",
      "execution_count": 10,
      "id": "415a3fdd",
      "metadata": {
        "execution": {
          "iopub.execute_input": "2024-06-01T15:40:14.715402Z",
          "iopub.status.busy": "2024-06-01T15:40:14.715092Z",
          "iopub.status.idle": "2024-06-01T15:40:14.731640Z",
          "shell.execute_reply": "2024-06-01T15:40:14.730771Z"
        },
        "papermill": {
          "duration": 0.036932,
          "end_time": "2024-06-01T15:40:14.733522",
          "exception": false,
          "start_time": "2024-06-01T15:40:14.696590",
          "status": "completed"
        },
        "tags": [],
        "id": "415a3fdd"
      },
      "outputs": [],
      "source": [
        "#option 1\n",
        "base.trainable=False"
      ]
    },
    {
      "cell_type": "code",
      "execution_count": 11,
      "id": "5ba4b30e",
      "metadata": {
        "execution": {
          "iopub.execute_input": "2024-06-01T15:40:14.770530Z",
          "iopub.status.busy": "2024-06-01T15:40:14.770255Z",
          "iopub.status.idle": "2024-06-01T15:40:14.785382Z",
          "shell.execute_reply": "2024-06-01T15:40:14.784651Z"
        },
        "papermill": {
          "duration": 0.035492,
          "end_time": "2024-06-01T15:40:14.787178",
          "exception": false,
          "start_time": "2024-06-01T15:40:14.751686",
          "status": "completed"
        },
        "tags": [],
        "id": "5ba4b30e"
      },
      "outputs": [],
      "source": [
        "model=Sequential()\n",
        "model.add(base)\n",
        "model.add(Flatten())\n",
        "model.add(BatchNormalization())\n",
        "model.add(Dense(1024,activation='relu'))\n",
        "model.add(Dense(1024,activation='relu'))\n",
        "model.add(Dropout(rate=0.2))\n",
        "model.add(Dense(1,activation='sigmoid'))"
      ]
    },
    {
      "cell_type": "code",
      "execution_count": 12,
      "id": "57633780",
      "metadata": {
        "execution": {
          "iopub.execute_input": "2024-06-01T15:40:14.908958Z",
          "iopub.status.busy": "2024-06-01T15:40:14.908341Z",
          "iopub.status.idle": "2024-06-01T15:40:14.923468Z",
          "shell.execute_reply": "2024-06-01T15:40:14.922787Z"
        },
        "papermill": {
          "duration": 0.036414,
          "end_time": "2024-06-01T15:40:14.925384",
          "exception": false,
          "start_time": "2024-06-01T15:40:14.888970",
          "status": "completed"
        },
        "tags": [],
        "id": "57633780"
      },
      "outputs": [],
      "source": [
        "model.compile(optimizer='Adam',loss='binary_crossentropy',metrics=['accuracy'])"
      ]
    },
    {
      "cell_type": "code",
      "execution_count": 13,
      "id": "77d94a12",
      "metadata": {
        "execution": {
          "iopub.execute_input": "2024-06-01T15:40:14.963115Z",
          "iopub.status.busy": "2024-06-01T15:40:14.962822Z",
          "iopub.status.idle": "2024-06-01T15:45:09.620446Z",
          "shell.execute_reply": "2024-06-01T15:45:09.619415Z"
        },
        "papermill": {
          "duration": 294.679142,
          "end_time": "2024-06-01T15:45:09.622828",
          "exception": false,
          "start_time": "2024-06-01T15:40:14.943686",
          "status": "completed"
        },
        "tags": [],
        "colab": {
          "base_uri": "https://localhost:8080/"
        },
        "id": "77d94a12",
        "outputId": "445f1c9b-3f36-484c-901a-c84fbd9e3ca2"
      },
      "outputs": [
        {
          "output_type": "stream",
          "name": "stdout",
          "text": [
            "Epoch 1/10\n",
            "\u001b[1m189/189\u001b[0m \u001b[32m━━━━━━━━━━━━━━━━━━━━\u001b[0m\u001b[37m\u001b[0m \u001b[1m80s\u001b[0m 259ms/step - accuracy: 0.9318 - loss: 0.6909 - val_accuracy: 0.9735 - val_loss: 0.0943\n",
            "Epoch 2/10\n",
            "\u001b[1m189/189\u001b[0m \u001b[32m━━━━━━━━━━━━━━━━━━━━\u001b[0m\u001b[37m\u001b[0m \u001b[1m39s\u001b[0m 93ms/step - accuracy: 0.9885 - loss: 0.0769 - val_accuracy: 0.9775 - val_loss: 0.1700\n",
            "Epoch 3/10\n",
            "\u001b[1m189/189\u001b[0m \u001b[32m━━━━━━━━━━━━━━━━━━━━\u001b[0m\u001b[37m\u001b[0m \u001b[1m21s\u001b[0m 94ms/step - accuracy: 0.9972 - loss: 0.0156 - val_accuracy: 0.9762 - val_loss: 0.2608\n",
            "Epoch 4/10\n",
            "\u001b[1m189/189\u001b[0m \u001b[32m━━━━━━━━━━━━━━━━━━━━\u001b[0m\u001b[37m\u001b[0m \u001b[1m20s\u001b[0m 94ms/step - accuracy: 0.9966 - loss: 0.0284 - val_accuracy: 0.9768 - val_loss: 0.3081\n",
            "Epoch 5/10\n",
            "\u001b[1m189/189\u001b[0m \u001b[32m━━━━━━━━━━━━━━━━━━━━\u001b[0m\u001b[37m\u001b[0m \u001b[1m17s\u001b[0m 93ms/step - accuracy: 0.9971 - loss: 0.0219 - val_accuracy: 0.9689 - val_loss: 0.4861\n",
            "Epoch 6/10\n",
            "\u001b[1m189/189\u001b[0m \u001b[32m━━━━━━━━━━━━━━━━━━━━\u001b[0m\u001b[37m\u001b[0m \u001b[1m17s\u001b[0m 92ms/step - accuracy: 0.9962 - loss: 0.1418 - val_accuracy: 0.9729 - val_loss: 0.5665\n",
            "Epoch 7/10\n",
            "\u001b[1m189/189\u001b[0m \u001b[32m━━━━━━━━━━━━━━━━━━━━\u001b[0m\u001b[37m\u001b[0m \u001b[1m20s\u001b[0m 92ms/step - accuracy: 0.9983 - loss: 0.0248 - val_accuracy: 0.9762 - val_loss: 0.5032\n",
            "Epoch 8/10\n",
            "\u001b[1m189/189\u001b[0m \u001b[32m━━━━━━━━━━━━━━━━━━━━\u001b[0m\u001b[37m\u001b[0m \u001b[1m21s\u001b[0m 93ms/step - accuracy: 0.9930 - loss: 0.0538 - val_accuracy: 0.9742 - val_loss: 0.4103\n",
            "Epoch 9/10\n",
            "\u001b[1m189/189\u001b[0m \u001b[32m━━━━━━━━━━━━━━━━━━━━\u001b[0m\u001b[37m\u001b[0m \u001b[1m20s\u001b[0m 104ms/step - accuracy: 0.9965 - loss: 0.0172 - val_accuracy: 0.9775 - val_loss: 0.2838\n",
            "Epoch 10/10\n",
            "\u001b[1m189/189\u001b[0m \u001b[32m━━━━━━━━━━━━━━━━━━━━\u001b[0m\u001b[37m\u001b[0m \u001b[1m18s\u001b[0m 95ms/step - accuracy: 0.9993 - loss: 0.0031 - val_accuracy: 0.9775 - val_loss: 0.2953\n"
          ]
        }
      ],
      "source": [
        "epochs=10\n",
        "history=model.fit(X_train,y_train,epochs=epochs,validation_data=(X_test,y_test),verbose=1)"
      ]
    },
    {
      "cell_type": "code",
      "execution_count": 14,
      "id": "201eeabb",
      "metadata": {
        "execution": {
          "iopub.execute_input": "2024-06-01T15:45:10.132029Z",
          "iopub.status.busy": "2024-06-01T15:45:10.131641Z",
          "iopub.status.idle": "2024-06-01T15:45:10.136131Z",
          "shell.execute_reply": "2024-06-01T15:45:10.135269Z"
        },
        "papermill": {
          "duration": 0.260686,
          "end_time": "2024-06-01T15:45:10.138000",
          "exception": false,
          "start_time": "2024-06-01T15:45:09.877314",
          "status": "completed"
        },
        "tags": [],
        "id": "201eeabb"
      },
      "outputs": [],
      "source": [
        "from sklearn.metrics import accuracy_score,recall_score,confusion_matrix"
      ]
    },
    {
      "cell_type": "code",
      "execution_count": 15,
      "id": "a5932d22",
      "metadata": {
        "execution": {
          "iopub.execute_input": "2024-06-01T15:45:10.642197Z",
          "iopub.status.busy": "2024-06-01T15:45:10.641468Z",
          "iopub.status.idle": "2024-06-01T15:45:31.274047Z",
          "shell.execute_reply": "2024-06-01T15:45:31.273075Z"
        },
        "papermill": {
          "duration": 20.885916,
          "end_time": "2024-06-01T15:45:31.276148",
          "exception": false,
          "start_time": "2024-06-01T15:45:10.390232",
          "status": "completed"
        },
        "tags": [],
        "id": "a5932d22",
        "colab": {
          "base_uri": "https://localhost:8080/"
        },
        "outputId": "599a2603-a6a8-4acd-ea1e-620bb5f2f66e"
      },
      "outputs": [
        {
          "output_type": "stream",
          "name": "stdout",
          "text": [
            "\u001b[1m48/48\u001b[0m \u001b[32m━━━━━━━━━━━━━━━━━━━━\u001b[0m\u001b[37m\u001b[0m \u001b[1m19s\u001b[0m 219ms/step\n"
          ]
        }
      ],
      "source": [
        "y_prob=model.predict(X_test)\n",
        "y_pred=np.where(y_prob>0.5,1,0)"
      ]
    },
    {
      "cell_type": "code",
      "execution_count": 16,
      "id": "9eec250d",
      "metadata": {
        "execution": {
          "iopub.execute_input": "2024-06-01T15:45:31.785442Z",
          "iopub.status.busy": "2024-06-01T15:45:31.785075Z",
          "iopub.status.idle": "2024-06-01T15:45:31.798041Z",
          "shell.execute_reply": "2024-06-01T15:45:31.796947Z"
        },
        "papermill": {
          "duration": 0.266665,
          "end_time": "2024-06-01T15:45:31.799891",
          "exception": false,
          "start_time": "2024-06-01T15:45:31.533226",
          "status": "completed"
        },
        "tags": [],
        "id": "9eec250d",
        "colab": {
          "base_uri": "https://localhost:8080/"
        },
        "outputId": "5e65f6c1-e97b-4f2f-f48f-3a51cd6a3101"
      },
      "outputs": [
        {
          "output_type": "stream",
          "name": "stdout",
          "text": [
            "accuracy is 97.75%\n",
            "recall is 97.99%\n",
            "[[746  19]\n",
            " [ 15 731]]\n"
          ]
        }
      ],
      "source": [
        "acc=accuracy_score(y_test,y_pred)\n",
        "recall=recall_score(y_test,y_pred)\n",
        "cm=confusion_matrix(y_test,y_pred)\n",
        "print(f\"accuracy is {acc*100:.2f}%\")\n",
        "print(f\"recall is {recall*100:.2f}%\")\n",
        "print(cm)"
      ]
    },
    {
      "cell_type": "code",
      "execution_count": 17,
      "id": "27f1d2e6",
      "metadata": {
        "execution": {
          "iopub.execute_input": "2024-06-01T15:45:32.362681Z",
          "iopub.status.busy": "2024-06-01T15:45:32.362296Z",
          "iopub.status.idle": "2024-06-01T15:45:32.620849Z",
          "shell.execute_reply": "2024-06-01T15:45:32.619947Z"
        },
        "papermill": {
          "duration": 0.516215,
          "end_time": "2024-06-01T15:45:32.622737",
          "exception": false,
          "start_time": "2024-06-01T15:45:32.106522",
          "status": "completed"
        },
        "tags": [],
        "id": "27f1d2e6",
        "colab": {
          "base_uri": "https://localhost:8080/",
          "height": 430
        },
        "outputId": "5f028c8c-d1cf-4982-96a1-93d1659af788"
      },
      "outputs": [
        {
          "output_type": "display_data",
          "data": {
            "text/plain": [
              "<Figure size 640x480 with 1 Axes>"
            ],
            "image/png": "[encoded data removed]"
          },
          "metadata": {}
        }
      ],
      "source": [
        "plt.plot(history.history['loss'],label='train_loss')\n",
        "plt.plot(history.history['val_loss'],label='validation_loss')\n",
        "plt.legend()\n",
        "plt.xticks(np.arange(0, epochs, 1))\n",
        "plt.show()"
      ]
    },
    {
      "cell_type": "code",
      "execution_count": 18,
      "id": "006afb49",
      "metadata": {
        "execution": {
          "iopub.execute_input": "2024-06-01T15:45:33.129741Z",
          "iopub.status.busy": "2024-06-01T15:45:33.129386Z",
          "iopub.status.idle": "2024-06-01T15:45:33.448544Z",
          "shell.execute_reply": "2024-06-01T15:45:33.447513Z"
        },
        "papermill": {
          "duration": 0.574614,
          "end_time": "2024-06-01T15:45:33.450650",
          "exception": false,
          "start_time": "2024-06-01T15:45:32.876036",
          "status": "completed"
        },
        "tags": [],
        "id": "006afb49",
        "colab": {
          "base_uri": "https://localhost:8080/",
          "height": 430
        },
        "outputId": "7e4a64f9-69d3-4696-d53e-b9d324b919f8"
      },
      "outputs": [
        {
          "output_type": "display_data",
          "data": {
            "text/plain": [
              "<Figure size 640x480 with 1 Axes>"
            ],
            "image/png": "[encoded data removed]"
          },
          "metadata": {}
        }
      ],
      "source": [
        "plt.plot(history.history['accuracy'],label='train accuracy')\n",
        "plt.plot(history.history['val_accuracy'],label='validation accuracy')\n",
        "plt.legend()\n",
        "plt.xticks(np.arange(0, epochs, 1))\n",
        "plt.show()"
      ]
    }
  ],
  "metadata": {
    "kaggle": {
      "accelerator": "gpu",
      "dataSources": [
        {
          "datasetId": 809358,
          "sourceId": 1386555,
          "sourceType": "datasetVersion"
        }
      ],
      "dockerImageVersionId": 30698,
      "isGpuEnabled": true,
      "isInternetEnabled": true,
      "language": "python",
      "sourceType": "notebook"
    },
    "kernelspec": {
      "display_name": "Python 3",
      "name": "python3"
    },
    "language_info": {
      "codemirror_mode": {
        "name": "ipython",
        "version": 3
      },
      "file_extension": ".py",
      "mimetype": "text/x-python",
      "name": "python",
      "nbconvert_exporter": "python",
      "pygments_lexer": "ipython3",
      "version": "3.10.13"
    },
    "papermill": {
      "default_parameters": {},
      "duration": 428.360175,
      "end_time": "2024-06-01T15:45:37.359280",
      "environment_variables": {},
      "exception": null,
      "input_path": "__notebook__.ipynb",
      "output_path": "__notebook__.ipynb",
      "parameters": {},
      "start_time": "2024-06-01T15:38:28.999105",
      "version": "2.5.0"
    },
    "colab": {
      "provenance": [],
      "gpuType": "T4"
    },
    "accelerator": "GPU"
  },
  "nbformat": 4,
  "nbformat_minor": 5
}